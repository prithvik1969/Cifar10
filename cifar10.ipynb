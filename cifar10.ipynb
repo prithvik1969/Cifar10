{
 "cells": [
  {
   "cell_type": "markdown",
   "metadata": {},
   "source": [
    "# Predicting objects from cifar10 Dataset"
   ]
  },
  {
   "cell_type": "markdown",
   "metadata": {},
   "source": [
    "### Importing dataset from Tensorflow"
   ]
  },
  {
   "cell_type": "code",
   "execution_count": 1,
   "metadata": {},
   "outputs": [],
   "source": [
    "import tensorflow as tf\n",
    "import tensorflow_datasets as tfds\n",
    "import numpy as np\n",
    "from tensorflow.keras.preprocessing.image import ImageDataGenerator\n"
   ]
  },
  {
   "cell_type": "code",
   "execution_count": 2,
   "metadata": {},
   "outputs": [
    {
     "name": "stderr",
     "output_type": "stream",
     "text": [
      "/Users/prithvikewalramani/opt/anaconda3/lib/python3.7/site-packages/ipykernel_launcher.py:4: FutureWarning: arrays to stack must be passed as a \"sequence\" type such as list or tuple. Support for non-sequence iterables such as generators is deprecated as of NumPy 1.16 and will raise an error in the future.\n",
      "  after removing the cwd from sys.path.\n",
      "/Users/prithvikewalramani/opt/anaconda3/lib/python3.7/site-packages/ipykernel_launcher.py:5: FutureWarning: arrays to stack must be passed as a \"sequence\" type such as list or tuple. Support for non-sequence iterables such as generators is deprecated as of NumPy 1.16 and will raise an error in the future.\n",
      "  \"\"\"\n"
     ]
    }
   ],
   "source": [
    "dataset = tfds.load('cifar10')\n",
    "train, test = dataset['train'], dataset['test']\n",
    "\n",
    "train_numpy = np.vstack(tfds.as_numpy(train))\n",
    "test_numpy = np.vstack(tfds.as_numpy(test))\n",
    "\n",
    "X_train = np.array(list(map(lambda x: x[0]['image'], train_numpy)))\n",
    "y_train = np.array(list(map(lambda x: x[0]['label'], train_numpy)))\n",
    "\n",
    "X_test = np.array(list(map(lambda x: x[0]['image'], test_numpy)))\n",
    "y_test = np.array(list(map(lambda x: x[0]['label'], test_numpy)))"
   ]
  },
  {
   "cell_type": "markdown",
   "metadata": {},
   "source": [
    "### Performing Preprocessing"
   ]
  },
  {
   "cell_type": "code",
   "execution_count": 3,
   "metadata": {},
   "outputs": [],
   "source": [
    "train_datagen = ImageDataGenerator(\n",
    "\trescale=1/255\n",
    ")\n",
    "validation_datagen = ImageDataGenerator(\n",
    "\trescale=1/255\n",
    ")\n"
   ]
  },
  {
   "cell_type": "code",
   "execution_count": 4,
   "metadata": {},
   "outputs": [],
   "source": [
    "train_generator= train_datagen.flow(\n",
    "        X_train,\n",
    "        y_train, \n",
    "        batch_size=200)\n",
    "\n",
    "validation_generator = validation_datagen.flow(\n",
    "        X_train,\n",
    "        y_train, \n",
    "        batch_size=100)\n",
    "\n"
   ]
  },
  {
   "cell_type": "code",
   "execution_count": 5,
   "metadata": {},
   "outputs": [],
   "source": [
    "from tensorflow.keras.layers import *"
   ]
  },
  {
   "cell_type": "markdown",
   "metadata": {},
   "source": [
    "### Creating Model"
   ]
  },
  {
   "cell_type": "code",
   "execution_count": 6,
   "metadata": {},
   "outputs": [],
   "source": [
    "model=tf.keras.Sequential([\n",
    "    Conv2D(64, (3,3), activation='relu', input_shape=(32,32,3), padding='same'),\n",
    "    MaxPooling2D(2,2),\n",
    "    Conv2D(32, (3,3), activation='relu', padding='same'),\n",
    "    MaxPooling2D(2,2),\n",
    "    Conv2D(64, (3,3), activation='relu'),\n",
    "    Conv2D(32, (3,3), activation='relu', padding='same'),\n",
    "    \n",
    "    \n",
    "    Flatten(),\n",
    "    Dense(64, activation='relu'),\n",
    "    Dense(10, activation='softmax')\n",
    "])"
   ]
  },
  {
   "cell_type": "code",
   "execution_count": 7,
   "metadata": {},
   "outputs": [
    {
     "name": "stdout",
     "output_type": "stream",
     "text": [
      "Model: \"sequential\"\n",
      "_________________________________________________________________\n",
      "Layer (type)                 Output Shape              Param #   \n",
      "=================================================================\n",
      "conv2d (Conv2D)              (None, 32, 32, 64)        1792      \n",
      "_________________________________________________________________\n",
      "max_pooling2d (MaxPooling2D) (None, 16, 16, 64)        0         \n",
      "_________________________________________________________________\n",
      "conv2d_1 (Conv2D)            (None, 16, 16, 32)        18464     \n",
      "_________________________________________________________________\n",
      "max_pooling2d_1 (MaxPooling2 (None, 8, 8, 32)          0         \n",
      "_________________________________________________________________\n",
      "conv2d_2 (Conv2D)            (None, 6, 6, 64)          18496     \n",
      "_________________________________________________________________\n",
      "conv2d_3 (Conv2D)            (None, 6, 6, 32)          18464     \n",
      "_________________________________________________________________\n",
      "flatten (Flatten)            (None, 1152)              0         \n",
      "_________________________________________________________________\n",
      "dense (Dense)                (None, 64)                73792     \n",
      "_________________________________________________________________\n",
      "dense_1 (Dense)              (None, 10)                650       \n",
      "=================================================================\n",
      "Total params: 131,658\n",
      "Trainable params: 131,658\n",
      "Non-trainable params: 0\n",
      "_________________________________________________________________\n"
     ]
    }
   ],
   "source": [
    "model.summary()"
   ]
  },
  {
   "cell_type": "code",
   "execution_count": 8,
   "metadata": {},
   "outputs": [],
   "source": [
    "model.compile(optimizer = 'adam',\n",
    "loss = 'sparse_categorical_crossentropy',\n",
    "metrics=['accuracy'])\n"
   ]
  },
  {
   "cell_type": "code",
   "execution_count": 9,
   "metadata": {},
   "outputs": [
    {
     "name": "stdout",
     "output_type": "stream",
     "text": [
      "WARNING:tensorflow:From <ipython-input-9-936fcf01f172>:6: Model.fit_generator (from tensorflow.python.keras.engine.training) is deprecated and will be removed in a future version.\n",
      "Instructions for updating:\n",
      "Please use Model.fit, which supports generators.\n"
     ]
    },
    {
     "name": "stderr",
     "output_type": "stream",
     "text": [
      "WARNING:tensorflow:From <ipython-input-9-936fcf01f172>:6: Model.fit_generator (from tensorflow.python.keras.engine.training) is deprecated and will be removed in a future version.\n",
      "Instructions for updating:\n",
      "Please use Model.fit, which supports generators.\n"
     ]
    },
    {
     "name": "stdout",
     "output_type": "stream",
     "text": [
      "Epoch 1/100\n",
      "50/50 [==============================] - 23s 452ms/step - loss: 2.1026 - accuracy: 0.2220 - val_loss: 1.9232 - val_accuracy: 0.2885\n",
      "Epoch 2/100\n",
      "50/50 [==============================] - 21s 427ms/step - loss: 1.7611 - accuracy: 0.3603 - val_loss: 1.7474 - val_accuracy: 0.3590\n",
      "Epoch 3/100\n",
      "50/50 [==============================] - 20s 409ms/step - loss: 1.6032 - accuracy: 0.4140 - val_loss: 1.5813 - val_accuracy: 0.4190\n",
      "Epoch 4/100\n",
      "50/50 [==============================] - 18s 368ms/step - loss: 1.5277 - accuracy: 0.4394 - val_loss: 1.4638 - val_accuracy: 0.4610\n",
      "Epoch 5/100\n",
      "50/50 [==============================] - 21s 413ms/step - loss: 1.4352 - accuracy: 0.4780 - val_loss: 1.4114 - val_accuracy: 0.4990\n",
      "Epoch 6/100\n",
      "50/50 [==============================] - 18s 363ms/step - loss: 1.3816 - accuracy: 0.5016 - val_loss: 1.3645 - val_accuracy: 0.5098\n",
      "Epoch 7/100\n",
      "50/50 [==============================] - 19s 370ms/step - loss: 1.3230 - accuracy: 0.5199 - val_loss: 1.3060 - val_accuracy: 0.5328\n",
      "Epoch 8/100\n",
      "50/50 [==============================] - 20s 402ms/step - loss: 1.3045 - accuracy: 0.5321 - val_loss: 1.3234 - val_accuracy: 0.5260\n",
      "Epoch 9/100\n",
      "50/50 [==============================] - 21s 426ms/step - loss: 1.2795 - accuracy: 0.5411 - val_loss: 1.2581 - val_accuracy: 0.5585\n",
      "Epoch 10/100\n",
      "50/50 [==============================] - 20s 394ms/step - loss: 1.2167 - accuracy: 0.5689 - val_loss: 1.1966 - val_accuracy: 0.5732\n",
      "Epoch 11/100\n",
      "50/50 [==============================] - 21s 410ms/step - loss: 1.2183 - accuracy: 0.5642 - val_loss: 1.2179 - val_accuracy: 0.5705\n",
      "Epoch 12/100\n",
      "50/50 [==============================] - 22s 431ms/step - loss: 1.1686 - accuracy: 0.5877 - val_loss: 1.1141 - val_accuracy: 0.6100\n",
      "Epoch 13/100\n",
      "50/50 [==============================] - 35s 693ms/step - loss: 1.1434 - accuracy: 0.5958 - val_loss: 1.1150 - val_accuracy: 0.6087\n",
      "Epoch 14/100\n",
      "50/50 [==============================] - 22s 447ms/step - loss: 1.1069 - accuracy: 0.6122 - val_loss: 1.0992 - val_accuracy: 0.6168\n",
      "Epoch 15/100\n",
      "50/50 [==============================] - 21s 425ms/step - loss: 1.1231 - accuracy: 0.6072 - val_loss: 1.1300 - val_accuracy: 0.5928\n",
      "Epoch 16/100\n",
      "50/50 [==============================] - 23s 454ms/step - loss: 1.0785 - accuracy: 0.6227 - val_loss: 1.0538 - val_accuracy: 0.6332\n",
      "Epoch 17/100\n",
      "50/50 [==============================] - 21s 420ms/step - loss: 1.0755 - accuracy: 0.6187 - val_loss: 1.0166 - val_accuracy: 0.6435\n",
      "Epoch 18/100\n",
      "50/50 [==============================] - 33s 653ms/step - loss: 1.0457 - accuracy: 0.6317 - val_loss: 1.0413 - val_accuracy: 0.6233\n",
      "Epoch 19/100\n",
      "50/50 [==============================] - 24s 489ms/step - loss: 1.0316 - accuracy: 0.6354 - val_loss: 1.0075 - val_accuracy: 0.6395\n",
      "Epoch 20/100\n",
      "50/50 [==============================] - 25s 496ms/step - loss: 1.0180 - accuracy: 0.6367 - val_loss: 1.0227 - val_accuracy: 0.6450\n",
      "Epoch 21/100\n",
      "50/50 [==============================] - 25s 491ms/step - loss: 0.9735 - accuracy: 0.6569 - val_loss: 0.9282 - val_accuracy: 0.6802\n",
      "Epoch 22/100\n",
      "50/50 [==============================] - 26s 518ms/step - loss: 0.9635 - accuracy: 0.6637 - val_loss: 0.9388 - val_accuracy: 0.6745\n",
      "Epoch 23/100\n",
      "50/50 [==============================] - 25s 502ms/step - loss: 0.9418 - accuracy: 0.6697 - val_loss: 0.9361 - val_accuracy: 0.6620\n",
      "Epoch 24/100\n",
      "50/50 [==============================] - 23s 457ms/step - loss: 0.9315 - accuracy: 0.6706 - val_loss: 0.9588 - val_accuracy: 0.6582\n",
      "Epoch 25/100\n",
      "50/50 [==============================] - 24s 484ms/step - loss: 0.9675 - accuracy: 0.6558 - val_loss: 0.9278 - val_accuracy: 0.6730\n",
      "Epoch 26/100\n",
      "50/50 [==============================] - 27s 538ms/step - loss: 0.9266 - accuracy: 0.6737 - val_loss: 0.9066 - val_accuracy: 0.6787\n",
      "Epoch 27/100\n",
      "50/50 [==============================] - 24s 484ms/step - loss: 0.9280 - accuracy: 0.6754 - val_loss: 0.9509 - val_accuracy: 0.6593\n",
      "Epoch 28/100\n",
      "50/50 [==============================] - 26s 515ms/step - loss: 0.9075 - accuracy: 0.6893 - val_loss: 0.9184 - val_accuracy: 0.6795\n",
      "Epoch 29/100\n",
      "50/50 [==============================] - 23s 464ms/step - loss: 0.9189 - accuracy: 0.6781 - val_loss: 0.8922 - val_accuracy: 0.6845\n",
      "Epoch 30/100\n",
      "50/50 [==============================] - 21s 430ms/step - loss: 0.8886 - accuracy: 0.6908 - val_loss: 0.8749 - val_accuracy: 0.6960\n",
      "Epoch 31/100\n",
      "50/50 [==============================] - 23s 455ms/step - loss: 0.8746 - accuracy: 0.6907 - val_loss: 0.9019 - val_accuracy: 0.6820\n",
      "Epoch 32/100\n",
      "50/50 [==============================] - 19s 377ms/step - loss: 0.8659 - accuracy: 0.6982 - val_loss: 0.8510 - val_accuracy: 0.7042\n",
      "Epoch 33/100\n",
      "50/50 [==============================] - 18s 360ms/step - loss: 0.8536 - accuracy: 0.6995 - val_loss: 0.8205 - val_accuracy: 0.7172\n",
      "Epoch 34/100\n",
      "50/50 [==============================] - 18s 364ms/step - loss: 0.8647 - accuracy: 0.7010 - val_loss: 0.8607 - val_accuracy: 0.6977\n",
      "Epoch 35/100\n",
      "50/50 [==============================] - 18s 363ms/step - loss: 0.8400 - accuracy: 0.7071 - val_loss: 0.7996 - val_accuracy: 0.7195\n",
      "Epoch 36/100\n",
      "50/50 [==============================] - 21s 421ms/step - loss: 0.8254 - accuracy: 0.7103 - val_loss: 0.8033 - val_accuracy: 0.7110\n",
      "Epoch 37/100\n",
      "50/50 [==============================] - 21s 429ms/step - loss: 0.8272 - accuracy: 0.7087 - val_loss: 0.7985 - val_accuracy: 0.7210\n",
      "Epoch 38/100\n",
      "50/50 [==============================] - 23s 457ms/step - loss: 0.8018 - accuracy: 0.7227 - val_loss: 0.7949 - val_accuracy: 0.7210\n",
      "Epoch 39/100\n",
      "50/50 [==============================] - 20s 408ms/step - loss: 0.8065 - accuracy: 0.7207 - val_loss: 0.8261 - val_accuracy: 0.7138\n",
      "Epoch 40/100\n",
      "50/50 [==============================] - 20s 391ms/step - loss: 0.8254 - accuracy: 0.7125 - val_loss: 0.7763 - val_accuracy: 0.7340\n",
      "Epoch 41/100\n",
      "50/50 [==============================] - 23s 464ms/step - loss: 0.7857 - accuracy: 0.7233 - val_loss: 0.8119 - val_accuracy: 0.7168\n",
      "Epoch 42/100\n",
      "50/50 [==============================] - 22s 440ms/step - loss: 0.7646 - accuracy: 0.7330 - val_loss: 0.7358 - val_accuracy: 0.7520\n",
      "Epoch 43/100\n",
      "50/50 [==============================] - 24s 479ms/step - loss: 0.7748 - accuracy: 0.7289 - val_loss: 0.7556 - val_accuracy: 0.7333\n",
      "Epoch 44/100\n",
      "50/50 [==============================] - 23s 458ms/step - loss: 0.7449 - accuracy: 0.7378 - val_loss: 0.7623 - val_accuracy: 0.7320\n",
      "Epoch 45/100\n",
      "50/50 [==============================] - 21s 425ms/step - loss: 0.7605 - accuracy: 0.7363 - val_loss: 0.7308 - val_accuracy: 0.7523\n",
      "Epoch 46/100\n",
      "50/50 [==============================] - 18s 366ms/step - loss: 0.7578 - accuracy: 0.7396 - val_loss: 0.7607 - val_accuracy: 0.7253\n",
      "Epoch 47/100\n",
      "50/50 [==============================] - 18s 363ms/step - loss: 0.7353 - accuracy: 0.7474 - val_loss: 0.7184 - val_accuracy: 0.7510\n",
      "Epoch 48/100\n",
      "50/50 [==============================] - 17s 349ms/step - loss: 0.7420 - accuracy: 0.7415 - val_loss: 0.7266 - val_accuracy: 0.7360\n",
      "Epoch 49/100\n",
      "50/50 [==============================] - 17s 347ms/step - loss: 0.7249 - accuracy: 0.7469 - val_loss: 0.7201 - val_accuracy: 0.7485\n",
      "Epoch 50/100\n",
      "50/50 [==============================] - 17s 347ms/step - loss: 0.7103 - accuracy: 0.7516 - val_loss: 0.7429 - val_accuracy: 0.7393\n",
      "Epoch 51/100\n",
      "50/50 [==============================] - 17s 342ms/step - loss: 0.7230 - accuracy: 0.7468 - val_loss: 0.7205 - val_accuracy: 0.7555\n",
      "Epoch 52/100\n",
      "50/50 [==============================] - 17s 347ms/step - loss: 0.7267 - accuracy: 0.7448 - val_loss: 0.7610 - val_accuracy: 0.7398\n",
      "Epoch 53/100\n",
      "50/50 [==============================] - 17s 344ms/step - loss: 0.7040 - accuracy: 0.7595 - val_loss: 0.6896 - val_accuracy: 0.7577\n",
      "Epoch 54/100\n",
      "50/50 [==============================] - 17s 340ms/step - loss: 0.7028 - accuracy: 0.7547 - val_loss: 0.7048 - val_accuracy: 0.7517\n",
      "Epoch 55/100\n",
      "50/50 [==============================] - 17s 341ms/step - loss: 0.6912 - accuracy: 0.7586 - val_loss: 0.6625 - val_accuracy: 0.7750\n",
      "Epoch 56/100\n",
      "50/50 [==============================] - 17s 341ms/step - loss: 0.6767 - accuracy: 0.7613 - val_loss: 0.7016 - val_accuracy: 0.7552\n",
      "Epoch 57/100\n"
     ]
    },
    {
     "name": "stdout",
     "output_type": "stream",
     "text": [
      "50/50 [==============================] - 17s 340ms/step - loss: 0.6851 - accuracy: 0.7581 - val_loss: 0.6755 - val_accuracy: 0.7602\n",
      "Epoch 58/100\n",
      "50/50 [==============================] - 17s 343ms/step - loss: 0.6804 - accuracy: 0.7587 - val_loss: 0.6654 - val_accuracy: 0.7670\n",
      "Epoch 59/100\n",
      "50/50 [==============================] - 17s 348ms/step - loss: 0.6528 - accuracy: 0.7766 - val_loss: 0.6806 - val_accuracy: 0.7663\n",
      "Epoch 60/100\n",
      "50/50 [==============================] - 18s 353ms/step - loss: 0.6653 - accuracy: 0.7668 - val_loss: 0.6805 - val_accuracy: 0.7540\n",
      "Epoch 61/100\n",
      "50/50 [==============================] - 17s 335ms/step - loss: 0.6659 - accuracy: 0.7658 - val_loss: 0.7206 - val_accuracy: 0.7470\n",
      "Epoch 62/100\n",
      "50/50 [==============================] - 17s 335ms/step - loss: 0.6584 - accuracy: 0.7689 - val_loss: 0.6477 - val_accuracy: 0.7742\n",
      "Epoch 63/100\n",
      "50/50 [==============================] - 17s 334ms/step - loss: 0.6598 - accuracy: 0.7651 - val_loss: 0.6453 - val_accuracy: 0.7788\n",
      "Epoch 64/100\n",
      "50/50 [==============================] - 17s 340ms/step - loss: 0.6625 - accuracy: 0.7679 - val_loss: 0.6624 - val_accuracy: 0.7697\n",
      "Epoch 65/100\n",
      "50/50 [==============================] - 18s 358ms/step - loss: 0.6363 - accuracy: 0.7763 - val_loss: 0.6125 - val_accuracy: 0.7822\n",
      "Epoch 66/100\n",
      "50/50 [==============================] - 17s 341ms/step - loss: 0.6345 - accuracy: 0.7813 - val_loss: 0.6349 - val_accuracy: 0.7797\n",
      "Epoch 67/100\n",
      "50/50 [==============================] - 19s 379ms/step - loss: 0.6352 - accuracy: 0.7747 - val_loss: 0.6514 - val_accuracy: 0.7738\n",
      "Epoch 68/100\n",
      "50/50 [==============================] - 23s 458ms/step - loss: 0.6216 - accuracy: 0.7805 - val_loss: 0.5988 - val_accuracy: 0.7883\n",
      "Epoch 69/100\n",
      "50/50 [==============================] - 25s 504ms/step - loss: 0.6285 - accuracy: 0.7818 - val_loss: 0.6335 - val_accuracy: 0.7818\n",
      "Epoch 70/100\n",
      "50/50 [==============================] - 21s 416ms/step - loss: 0.6037 - accuracy: 0.7896 - val_loss: 0.6414 - val_accuracy: 0.7755\n",
      "Epoch 71/100\n",
      "50/50 [==============================] - 18s 369ms/step - loss: 0.6112 - accuracy: 0.7818 - val_loss: 0.5971 - val_accuracy: 0.7900\n",
      "Epoch 72/100\n",
      "50/50 [==============================] - 18s 369ms/step - loss: 0.6130 - accuracy: 0.7870 - val_loss: 0.5914 - val_accuracy: 0.7968\n",
      "Epoch 73/100\n",
      "50/50 [==============================] - 21s 421ms/step - loss: 0.5924 - accuracy: 0.7909 - val_loss: 0.5680 - val_accuracy: 0.8043\n",
      "Epoch 74/100\n",
      "50/50 [==============================] - 27s 532ms/step - loss: 0.6306 - accuracy: 0.7789 - val_loss: 0.6119 - val_accuracy: 0.7860\n",
      "Epoch 75/100\n",
      "50/50 [==============================] - 20s 409ms/step - loss: 0.5757 - accuracy: 0.8011 - val_loss: 0.6108 - val_accuracy: 0.7872\n",
      "Epoch 76/100\n",
      "50/50 [==============================] - 27s 535ms/step - loss: 0.5816 - accuracy: 0.7978 - val_loss: 0.5576 - val_accuracy: 0.7990\n",
      "Epoch 77/100\n",
      "50/50 [==============================] - 47s 947ms/step - loss: 0.5787 - accuracy: 0.7959 - val_loss: 0.5875 - val_accuracy: 0.7915\n",
      "Epoch 78/100\n",
      "50/50 [==============================] - 22s 440ms/step - loss: 0.5891 - accuracy: 0.7936 - val_loss: 0.6001 - val_accuracy: 0.7965\n",
      "Epoch 79/100\n",
      "50/50 [==============================] - 30s 601ms/step - loss: 0.5910 - accuracy: 0.7914 - val_loss: 0.5615 - val_accuracy: 0.8005\n",
      "Epoch 80/100\n",
      "50/50 [==============================] - 20s 401ms/step - loss: 0.5703 - accuracy: 0.7983 - val_loss: 0.5864 - val_accuracy: 0.7937\n",
      "Epoch 81/100\n",
      "50/50 [==============================] - 25s 499ms/step - loss: 0.5670 - accuracy: 0.7992 - val_loss: 0.5458 - val_accuracy: 0.8115\n",
      "Epoch 82/100\n",
      "50/50 [==============================] - 20s 406ms/step - loss: 0.5452 - accuracy: 0.8121 - val_loss: 0.5483 - val_accuracy: 0.8095\n",
      "Epoch 83/100\n",
      "50/50 [==============================] - 21s 412ms/step - loss: 0.5470 - accuracy: 0.8081 - val_loss: 0.5356 - val_accuracy: 0.8140\n",
      "Epoch 84/100\n",
      "50/50 [==============================] - 20s 398ms/step - loss: 0.5631 - accuracy: 0.8015 - val_loss: 0.5522 - val_accuracy: 0.8098\n",
      "Epoch 85/100\n",
      "50/50 [==============================] - 18s 370ms/step - loss: 0.5533 - accuracy: 0.8043 - val_loss: 0.5613 - val_accuracy: 0.8033\n",
      "Epoch 86/100\n",
      "50/50 [==============================] - 17s 347ms/step - loss: 0.5201 - accuracy: 0.8221 - val_loss: 0.5386 - val_accuracy: 0.8117\n",
      "Epoch 87/100\n",
      "50/50 [==============================] - 18s 352ms/step - loss: 0.5334 - accuracy: 0.8098 - val_loss: 0.5485 - val_accuracy: 0.8108\n",
      "Epoch 88/100\n",
      "50/50 [==============================] - 17s 333ms/step - loss: 0.5183 - accuracy: 0.8152 - val_loss: 0.4746 - val_accuracy: 0.8410\n",
      "Epoch 89/100\n",
      "50/50 [==============================] - 18s 362ms/step - loss: 0.5081 - accuracy: 0.8192 - val_loss: 0.5080 - val_accuracy: 0.8225\n",
      "Epoch 90/100\n",
      "50/50 [==============================] - 19s 386ms/step - loss: 0.5225 - accuracy: 0.8147 - val_loss: 0.5375 - val_accuracy: 0.8045\n",
      "Epoch 91/100\n",
      "50/50 [==============================] - 19s 371ms/step - loss: 0.5204 - accuracy: 0.8173 - val_loss: 0.5106 - val_accuracy: 0.8085\n",
      "Epoch 92/100\n",
      "50/50 [==============================] - 17s 346ms/step - loss: 0.5064 - accuracy: 0.8223 - val_loss: 0.5110 - val_accuracy: 0.8188\n",
      "Epoch 93/100\n",
      "50/50 [==============================] - 17s 343ms/step - loss: 0.4995 - accuracy: 0.8233 - val_loss: 0.5029 - val_accuracy: 0.8213\n",
      "Epoch 94/100\n",
      "50/50 [==============================] - 17s 342ms/step - loss: 0.5084 - accuracy: 0.8203 - val_loss: 0.4698 - val_accuracy: 0.8295\n",
      "Epoch 95/100\n",
      "50/50 [==============================] - 17s 343ms/step - loss: 0.4905 - accuracy: 0.8240 - val_loss: 0.5165 - val_accuracy: 0.8210\n",
      "Epoch 96/100\n",
      "50/50 [==============================] - 18s 359ms/step - loss: 0.4810 - accuracy: 0.8347 - val_loss: 0.4817 - val_accuracy: 0.8232\n",
      "Epoch 97/100\n",
      "50/50 [==============================] - 18s 351ms/step - loss: 0.4873 - accuracy: 0.8319 - val_loss: 0.4514 - val_accuracy: 0.8462\n",
      "Epoch 98/100\n",
      "50/50 [==============================] - 17s 343ms/step - loss: 0.4723 - accuracy: 0.8344 - val_loss: 0.4596 - val_accuracy: 0.8355\n",
      "Epoch 99/100\n",
      "50/50 [==============================] - 17s 333ms/step - loss: 0.4684 - accuracy: 0.8356 - val_loss: 0.4720 - val_accuracy: 0.8370\n",
      "Epoch 100/100\n",
      "50/50 [==============================] - 17s 346ms/step - loss: 0.4940 - accuracy: 0.8241 - val_loss: 0.4826 - val_accuracy: 0.8355\n"
     ]
    }
   ],
   "source": [
    "history=model.fit_generator(\n",
    "\ttrain_generator,\n",
    "\tsteps_per_epoch=50,\n",
    "\tepochs=100,\n",
    "\tvalidation_data=validation_generator,\n",
    "\tvalidation_steps=40\n",
    "\t)\n"
   ]
  },
  {
   "cell_type": "markdown",
   "metadata": {},
   "source": [
    "### Model has been trained. Some examples below"
   ]
  },
  {
   "cell_type": "code",
   "execution_count": 10,
   "metadata": {},
   "outputs": [],
   "source": [
    "import matplotlib.pyplot as plt"
   ]
  },
  {
   "cell_type": "code",
   "execution_count": 11,
   "metadata": {},
   "outputs": [],
   "source": [
    "p=[np.random.randint(10000) for q in range(11)]"
   ]
  },
  {
   "cell_type": "code",
   "execution_count": 12,
   "metadata": {},
   "outputs": [
    {
     "data": {
      "image/png": "[encoded data removed]",
      "text/plain": [
       "<Figure size 432x288 with 11 Axes>"
      ]
     },
     "metadata": {
      "needs_background": "light"
     },
     "output_type": "display_data"
    }
   ],
   "source": [
    "# Displaying 10 random handwritten images in the test dataset\n",
    "\n",
    "j=0\n",
    "for i in p: \n",
    "    j+=1\n",
    "    plt.imshow(X_test[i].reshape([32, 32, 3]));\n",
    "    plt.subplot(1, 11, j)\n",
    "plt.show()"
   ]
  },
  {
   "cell_type": "code",
   "execution_count": 13,
   "metadata": {},
   "outputs": [
    {
     "name": "stdout",
     "output_type": "stream",
     "text": [
      "[7, 6, 3, 6, 9, 6, 5, 8, 2, 5]\n"
     ]
    }
   ],
   "source": [
    "# Actual values of the data in the test dataset\n",
    "\n",
    "values=[]\n",
    "for i in p[1:]:\n",
    "    values.append(y_test[i])\n",
    "print(values)"
   ]
  },
  {
   "cell_type": "code",
   "execution_count": 14,
   "metadata": {},
   "outputs": [
    {
     "name": "stdout",
     "output_type": "stream",
     "text": [
      "[7, 0, 3, 0, 9, 5, 7, 8, 5, 7]\n"
     ]
    }
   ],
   "source": [
    "# Predictions performed by the trained model\n",
    "\n",
    "predictions=[]\n",
    "for i in p[1:]:\n",
    "    predictions.append(list(model.predict(X_test)[i]).index(1))\n",
    "print(predictions)"
   ]
  },
  {
   "cell_type": "code",
   "execution_count": null,
   "metadata": {},
   "outputs": [],
   "source": []
  }
 ],
 "metadata": {
  "kernelspec": {
   "display_name": "Python 3",
   "language": "python",
   "name": "python3"
  },
  "language_info": {
   "codemirror_mode": {
    "name": "ipython",
    "version": 3
   },
   "file_extension": ".py",
   "mimetype": "text/x-python",
   "name": "python",
   "nbconvert_exporter": "python",
   "pygments_lexer": "ipython3",
   "version": "3.7.4"
  }
 },
 "nbformat": 4,
 "nbformat_minor": 2
}
