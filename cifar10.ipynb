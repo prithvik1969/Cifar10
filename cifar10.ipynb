{
 "cells": [
  {
   "cell_type": "markdown",
   "metadata": {},
   "source": [
    "# Predicting objects from cifar10 Dataset"
   ]
  },
  {
   "cell_type": "markdown",
   "metadata": {},
   "source": [
    "### Importing dataset from Tensorflow"
   ]
  },
  {
   "cell_type": "code",
   "execution_count": 1,
   "metadata": {},
   "outputs": [],
   "source": [
    "import tensorflow as tf\n",
    "import tensorflow_datasets as tfds\n",
    "import numpy as np\n",
    "from tensorflow.keras.preprocessing.image import ImageDataGenerator\n"
   ]
  },
  {
   "cell_type": "code",
   "execution_count": 2,
   "metadata": {},
   "outputs": [
    {
     "name": "stderr",
     "output_type": "stream",
     "text": [
      "/Users/prithvikewalramani/opt/anaconda3/lib/python3.7/site-packages/ipykernel_launcher.py:4: FutureWarning: arrays to stack must be passed as a \"sequence\" type such as list or tuple. Support for non-sequence iterables such as generators is deprecated as of NumPy 1.16 and will raise an error in the future.\n",
      "  after removing the cwd from sys.path.\n",
      "/Users/prithvikewalramani/opt/anaconda3/lib/python3.7/site-packages/ipykernel_launcher.py:5: FutureWarning: arrays to stack must be passed as a \"sequence\" type such as list or tuple. Support for non-sequence iterables such as generators is deprecated as of NumPy 1.16 and will raise an error in the future.\n",
      "  \"\"\"\n"
     ]
    }
   ],
   "source": [
    "dataset = tfds.load('cifar10')\n",
    "train, test = dataset['train'], dataset['test']\n",
    "\n",
    "train_numpy = np.vstack(tfds.as_numpy(train))\n",
    "test_numpy = np.vstack(tfds.as_numpy(test))\n",
    "\n",
    "X_train = np.array(list(map(lambda x: x[0]['image'], train_numpy)))\n",
    "y_train = np.array(list(map(lambda x: x[0]['label'], train_numpy)))\n",
    "\n",
    "X_test = np.array(list(map(lambda x: x[0]['image'], test_numpy)))\n",
    "y_test = np.array(list(map(lambda x: x[0]['label'], test_numpy)))"
   ]
  },
  {
   "cell_type": "markdown",
   "metadata": {},
   "source": [
    "### Performing Preprocessing"
   ]
  },
  {
   "cell_type": "code",
   "execution_count": 3,
   "metadata": {},
   "outputs": [],
   "source": [
    "train_datagen = ImageDataGenerator(\n",
    "\trescale=1/255\n",
    ")\n",
    "validation_datagen = ImageDataGenerator(\n",
    "\trescale=1/255\n",
    ")\n"
   ]
  },
  {
   "cell_type": "code",
   "execution_count": null,
   "metadata": {},
   "outputs": [],
   "source": [
    "train_generator= train_datagen.flow(\n",
    "        X_train,\n",
    "        y_train, \n",
    "        batch_size=200)\n",
    "\n",
    "validation_generator = validation_datagen.flow(\n",
    "        X_train,\n",
    "        y_train, \n",
    "        batch_size=100)\n",
    "\n"
   ]
  },
  {
   "cell_type": "code",
   "execution_count": 5,
   "metadata": {},
   "outputs": [],
   "source": [
    "from tensorflow.keras.layers import *"
   ]
  },
  {
   "cell_type": "markdown",
   "metadata": {},
   "source": [
    "### Creating Model"
   ]
  },
  {
   "cell_type": "code",
   "execution_count": 21,
   "metadata": {},
   "outputs": [],
   "source": [
    "Conv2D?"
   ]
  },
  {
   "cell_type": "code",
   "execution_count": 33,
   "metadata": {},
   "outputs": [],
   "source": [
    "model=tf.keras.Sequential([\n",
    "    Conv2D(64, (3,3), activation='relu', input_shape=(32,32,3), padding='same'),\n",
    "    MaxPooling2D(2,2),\n",
    "    Conv2D(32, (3,3), activation='relu', padding='same'),\n",
    "    MaxPooling2D(2,2),\n",
    "    Conv2D(64, (3,3), activation='relu'),\n",
    "    Conv2D(32, (3,3), activation='relu', padding='same'),\n",
    "    \n",
    "    \n",
    "    Flatten(),\n",
    "    Dense(64, activation='relu'),\n",
    "    Dense(10, activation='softmax')\n",
    "])"
   ]
  },
  {
   "cell_type": "code",
   "execution_count": 34,
   "metadata": {},
   "outputs": [
    {
     "name": "stdout",
     "output_type": "stream",
     "text": [
      "Model: \"sequential_7\"\n",
      "_________________________________________________________________\n",
      "Layer (type)                 Output Shape              Param #   \n",
      "=================================================================\n",
      "conv2d_25 (Conv2D)           (None, 32, 32, 64)        1792      \n",
      "_________________________________________________________________\n",
      "max_pooling2d_25 (MaxPooling (None, 16, 16, 64)        0         \n",
      "_________________________________________________________________\n",
      "conv2d_26 (Conv2D)           (None, 16, 16, 32)        18464     \n",
      "_________________________________________________________________\n",
      "max_pooling2d_26 (MaxPooling (None, 8, 8, 32)          0         \n",
      "_________________________________________________________________\n",
      "conv2d_27 (Conv2D)           (None, 6, 6, 64)          18496     \n",
      "_________________________________________________________________\n",
      "conv2d_28 (Conv2D)           (None, 6, 6, 32)          18464     \n",
      "_________________________________________________________________\n",
      "flatten_7 (Flatten)          (None, 1152)              0         \n",
      "_________________________________________________________________\n",
      "dense_14 (Dense)             (None, 64)                73792     \n",
      "_________________________________________________________________\n",
      "dense_15 (Dense)             (None, 10)                650       \n",
      "=================================================================\n",
      "Total params: 131,658\n",
      "Trainable params: 131,658\n",
      "Non-trainable params: 0\n",
      "_________________________________________________________________\n"
     ]
    }
   ],
   "source": [
    "model.summary()"
   ]
  },
  {
   "cell_type": "code",
   "execution_count": 35,
   "metadata": {},
   "outputs": [],
   "source": [
    "model.compile(optimizer = 'adam',\n",
    "loss = 'sparse_categorical_crossentropy',\n",
    "metrics=['accuracy'])\n"
   ]
  },
  {
   "cell_type": "code",
   "execution_count": 36,
   "metadata": {},
   "outputs": [
    {
     "name": "stdout",
     "output_type": "stream",
     "text": [
      "Epoch 1/100\n",
      "50/50 [==============================] - 10s 208ms/step - loss: 2.1542 - accuracy: 0.1872 - val_loss: 2.0251 - val_accuracy: 0.2845\n",
      "Epoch 2/100\n",
      "50/50 [==============================] - 11s 224ms/step - loss: 1.8669 - accuracy: 0.3170 - val_loss: 1.9080 - val_accuracy: 0.2965\n",
      "Epoch 3/100\n",
      "50/50 [==============================] - 10s 202ms/step - loss: 1.7713 - accuracy: 0.3646 - val_loss: 1.6443 - val_accuracy: 0.3935\n",
      "Epoch 4/100\n",
      "50/50 [==============================] - 10s 205ms/step - loss: 1.6597 - accuracy: 0.3900 - val_loss: 1.6319 - val_accuracy: 0.3975\n",
      "Epoch 5/100\n",
      "50/50 [==============================] - 10s 204ms/step - loss: 1.5862 - accuracy: 0.4222 - val_loss: 1.5259 - val_accuracy: 0.4280\n",
      "Epoch 6/100\n",
      "50/50 [==============================] - 11s 217ms/step - loss: 1.5488 - accuracy: 0.4308 - val_loss: 1.4828 - val_accuracy: 0.4395\n",
      "Epoch 7/100\n",
      "50/50 [==============================] - 11s 217ms/step - loss: 1.4747 - accuracy: 0.4662 - val_loss: 1.4333 - val_accuracy: 0.4690\n",
      "Epoch 8/100\n",
      "50/50 [==============================] - 10s 205ms/step - loss: 1.4222 - accuracy: 0.4932 - val_loss: 1.4036 - val_accuracy: 0.4955\n",
      "Epoch 9/100\n",
      "50/50 [==============================] - 10s 204ms/step - loss: 1.3765 - accuracy: 0.5104 - val_loss: 1.3851 - val_accuracy: 0.4935\n",
      "Epoch 10/100\n",
      "50/50 [==============================] - 10s 207ms/step - loss: 1.3229 - accuracy: 0.5254 - val_loss: 1.2746 - val_accuracy: 0.5460\n",
      "Epoch 11/100\n",
      "50/50 [==============================] - 10s 201ms/step - loss: 1.3292 - accuracy: 0.5240 - val_loss: 1.3171 - val_accuracy: 0.5335\n",
      "Epoch 12/100\n",
      "50/50 [==============================] - 9s 186ms/step - loss: 1.3215 - accuracy: 0.5210 - val_loss: 1.3156 - val_accuracy: 0.5360\n",
      "Epoch 13/100\n",
      "50/50 [==============================] - 10s 197ms/step - loss: 1.2671 - accuracy: 0.5478 - val_loss: 1.2508 - val_accuracy: 0.5570\n",
      "Epoch 14/100\n",
      "50/50 [==============================] - 10s 190ms/step - loss: 1.2434 - accuracy: 0.5492 - val_loss: 1.2402 - val_accuracy: 0.5660\n",
      "Epoch 15/100\n",
      "50/50 [==============================] - 10s 197ms/step - loss: 1.2285 - accuracy: 0.5610 - val_loss: 1.1724 - val_accuracy: 0.5680\n",
      "Epoch 16/100\n",
      "50/50 [==============================] - 10s 208ms/step - loss: 1.1717 - accuracy: 0.5798 - val_loss: 1.1754 - val_accuracy: 0.5610\n",
      "Epoch 17/100\n",
      "50/50 [==============================] - 10s 206ms/step - loss: 1.1841 - accuracy: 0.5780 - val_loss: 1.1897 - val_accuracy: 0.5760\n",
      "Epoch 18/100\n",
      "50/50 [==============================] - 10s 194ms/step - loss: 1.1507 - accuracy: 0.5918 - val_loss: 1.1987 - val_accuracy: 0.5715\n",
      "Epoch 19/100\n",
      "50/50 [==============================] - 10s 191ms/step - loss: 1.1372 - accuracy: 0.6026 - val_loss: 1.0909 - val_accuracy: 0.6150\n",
      "Epoch 20/100\n",
      "50/50 [==============================] - 10s 199ms/step - loss: 1.1197 - accuracy: 0.6044 - val_loss: 1.0545 - val_accuracy: 0.6200\n",
      "Epoch 21/100\n",
      "50/50 [==============================] - 10s 199ms/step - loss: 1.1265 - accuracy: 0.6040 - val_loss: 1.0884 - val_accuracy: 0.6115\n",
      "Epoch 22/100\n",
      "50/50 [==============================] - 12s 234ms/step - loss: 1.0881 - accuracy: 0.6150 - val_loss: 1.1319 - val_accuracy: 0.5985\n",
      "Epoch 23/100\n",
      "50/50 [==============================] - 9s 189ms/step - loss: 1.0559 - accuracy: 0.6224 - val_loss: 1.0556 - val_accuracy: 0.6255\n",
      "Epoch 24/100\n",
      "50/50 [==============================] - 13s 269ms/step - loss: 1.0808 - accuracy: 0.6162 - val_loss: 1.0005 - val_accuracy: 0.6510\n",
      "Epoch 25/100\n",
      "50/50 [==============================] - 12s 245ms/step - loss: 1.0308 - accuracy: 0.6276 - val_loss: 0.9813 - val_accuracy: 0.6625\n",
      "Epoch 26/100\n",
      "50/50 [==============================] - 10s 206ms/step - loss: 1.0241 - accuracy: 0.6338 - val_loss: 0.9843 - val_accuracy: 0.6560\n",
      "Epoch 27/100\n",
      "50/50 [==============================] - 13s 269ms/step - loss: 0.9750 - accuracy: 0.6460 - val_loss: 0.9898 - val_accuracy: 0.6485\n",
      "Epoch 28/100\n",
      "50/50 [==============================] - 12s 249ms/step - loss: 0.9874 - accuracy: 0.6478 - val_loss: 0.9426 - val_accuracy: 0.6705\n",
      "Epoch 29/100\n",
      "50/50 [==============================] - 11s 223ms/step - loss: 0.9742 - accuracy: 0.6536 - val_loss: 0.9745 - val_accuracy: 0.6590\n",
      "Epoch 30/100\n",
      "50/50 [==============================] - 15s 309ms/step - loss: 1.0023 - accuracy: 0.6522 - val_loss: 1.0508 - val_accuracy: 0.6330\n",
      "Epoch 31/100\n",
      "50/50 [==============================] - 14s 289ms/step - loss: 0.9913 - accuracy: 0.6500 - val_loss: 0.9304 - val_accuracy: 0.6760\n",
      "Epoch 32/100\n",
      "50/50 [==============================] - 16s 311ms/step - loss: 0.9383 - accuracy: 0.6788 - val_loss: 0.9222 - val_accuracy: 0.6700\n",
      "Epoch 33/100\n",
      "50/50 [==============================] - 11s 216ms/step - loss: 0.9607 - accuracy: 0.6646 - val_loss: 0.9355 - val_accuracy: 0.6595\n",
      "Epoch 34/100\n",
      "50/50 [==============================] - 11s 223ms/step - loss: 0.9357 - accuracy: 0.6672 - val_loss: 0.9258 - val_accuracy: 0.6835\n",
      "Epoch 35/100\n",
      "50/50 [==============================] - 12s 231ms/step - loss: 0.8793 - accuracy: 0.6872 - val_loss: 0.9032 - val_accuracy: 0.6875\n",
      "Epoch 36/100\n",
      "50/50 [==============================] - 12s 232ms/step - loss: 0.9131 - accuracy: 0.6780 - val_loss: 0.8586 - val_accuracy: 0.6975\n",
      "Epoch 37/100\n",
      "50/50 [==============================] - 11s 223ms/step - loss: 0.8781 - accuracy: 0.6982 - val_loss: 0.8953 - val_accuracy: 0.6820\n",
      "Epoch 38/100\n",
      "50/50 [==============================] - 10s 209ms/step - loss: 0.9093 - accuracy: 0.6842 - val_loss: 0.8801 - val_accuracy: 0.6910\n",
      "Epoch 39/100\n",
      "50/50 [==============================] - 11s 210ms/step - loss: 0.8949 - accuracy: 0.6836 - val_loss: 0.8509 - val_accuracy: 0.7090\n",
      "Epoch 40/100\n",
      "50/50 [==============================] - 10s 198ms/step - loss: 0.8509 - accuracy: 0.7038 - val_loss: 0.7628 - val_accuracy: 0.7420\n",
      "Epoch 41/100\n",
      "50/50 [==============================] - 10s 204ms/step - loss: 0.8369 - accuracy: 0.7076 - val_loss: 0.8624 - val_accuracy: 0.7015\n",
      "Epoch 42/100\n",
      "50/50 [==============================] - 10s 203ms/step - loss: 0.8451 - accuracy: 0.7050 - val_loss: 0.8259 - val_accuracy: 0.7080\n",
      "Epoch 43/100\n",
      "50/50 [==============================] - 10s 195ms/step - loss: 0.8410 - accuracy: 0.7086 - val_loss: 0.8590 - val_accuracy: 0.7110\n",
      "Epoch 44/100\n",
      "50/50 [==============================] - 9s 185ms/step - loss: 0.8430 - accuracy: 0.7022 - val_loss: 0.8323 - val_accuracy: 0.7045\n",
      "Epoch 45/100\n",
      "50/50 [==============================] - 10s 191ms/step - loss: 0.8406 - accuracy: 0.6962 - val_loss: 0.8608 - val_accuracy: 0.7020\n",
      "Epoch 46/100\n",
      "50/50 [==============================] - 10s 192ms/step - loss: 0.8361 - accuracy: 0.7086 - val_loss: 0.8034 - val_accuracy: 0.7060\n",
      "Epoch 47/100\n",
      "50/50 [==============================] - 10s 192ms/step - loss: 0.8159 - accuracy: 0.7116 - val_loss: 0.7623 - val_accuracy: 0.7300\n",
      "Epoch 48/100\n",
      "50/50 [==============================] - 9s 189ms/step - loss: 0.8175 - accuracy: 0.7134 - val_loss: 0.7837 - val_accuracy: 0.7195\n",
      "Epoch 49/100\n",
      "50/50 [==============================] - 10s 202ms/step - loss: 0.8017 - accuracy: 0.7102 - val_loss: 0.8036 - val_accuracy: 0.7180\n",
      "Epoch 50/100\n",
      "50/50 [==============================] - 10s 208ms/step - loss: 0.8030 - accuracy: 0.7166 - val_loss: 0.7353 - val_accuracy: 0.7405\n",
      "Epoch 51/100\n",
      "50/50 [==============================] - 10s 201ms/step - loss: 0.7659 - accuracy: 0.7320 - val_loss: 0.7380 - val_accuracy: 0.7520\n",
      "Epoch 52/100\n",
      "50/50 [==============================] - 9s 187ms/step - loss: 0.7765 - accuracy: 0.7302 - val_loss: 0.7544 - val_accuracy: 0.7465\n",
      "Epoch 53/100\n",
      "50/50 [==============================] - 15s 310ms/step - loss: 0.7757 - accuracy: 0.7314 - val_loss: 0.7355 - val_accuracy: 0.7360\n",
      "Epoch 54/100\n",
      "50/50 [==============================] - 11s 215ms/step - loss: 0.7939 - accuracy: 0.7188 - val_loss: 0.7634 - val_accuracy: 0.7250\n",
      "Epoch 55/100\n",
      "50/50 [==============================] - 13s 251ms/step - loss: 0.7702 - accuracy: 0.7380 - val_loss: 0.7595 - val_accuracy: 0.7485\n",
      "Epoch 56/100\n",
      "50/50 [==============================] - 12s 235ms/step - loss: 0.7614 - accuracy: 0.7314 - val_loss: 0.7343 - val_accuracy: 0.7495\n",
      "Epoch 57/100\n"
     ]
    },
    {
     "name": "stdout",
     "output_type": "stream",
     "text": [
      "50/50 [==============================] - 11s 218ms/step - loss: 0.7445 - accuracy: 0.7410 - val_loss: 0.7249 - val_accuracy: 0.7425\n",
      "Epoch 58/100\n",
      "50/50 [==============================] - 19s 374ms/step - loss: 0.7406 - accuracy: 0.7400 - val_loss: 0.7224 - val_accuracy: 0.7425\n",
      "Epoch 59/100\n",
      "50/50 [==============================] - 11s 230ms/step - loss: 0.7601 - accuracy: 0.7402 - val_loss: 0.7603 - val_accuracy: 0.7325\n",
      "Epoch 60/100\n",
      "50/50 [==============================] - 10s 206ms/step - loss: 0.7347 - accuracy: 0.7412 - val_loss: 0.6978 - val_accuracy: 0.7580\n",
      "Epoch 61/100\n",
      "50/50 [==============================] - 11s 225ms/step - loss: 0.7221 - accuracy: 0.7458 - val_loss: 0.6749 - val_accuracy: 0.7635\n",
      "Epoch 62/100\n",
      "50/50 [==============================] - 11s 226ms/step - loss: 0.6989 - accuracy: 0.7568 - val_loss: 0.6830 - val_accuracy: 0.7585\n",
      "Epoch 63/100\n",
      "50/50 [==============================] - 10s 206ms/step - loss: 0.7163 - accuracy: 0.7468 - val_loss: 0.7781 - val_accuracy: 0.7335\n",
      "Epoch 64/100\n",
      "50/50 [==============================] - 10s 205ms/step - loss: 0.7216 - accuracy: 0.7538 - val_loss: 0.7071 - val_accuracy: 0.7615\n",
      "Epoch 65/100\n",
      "50/50 [==============================] - 11s 224ms/step - loss: 0.7081 - accuracy: 0.7456 - val_loss: 0.6630 - val_accuracy: 0.7655\n",
      "Epoch 66/100\n",
      "50/50 [==============================] - 11s 217ms/step - loss: 0.6990 - accuracy: 0.7512 - val_loss: 0.7296 - val_accuracy: 0.7455\n",
      "Epoch 67/100\n",
      "50/50 [==============================] - 11s 218ms/step - loss: 0.7140 - accuracy: 0.7492 - val_loss: 0.7344 - val_accuracy: 0.7500\n",
      "Epoch 68/100\n",
      "50/50 [==============================] - 11s 230ms/step - loss: 0.6675 - accuracy: 0.7676 - val_loss: 0.6780 - val_accuracy: 0.7560\n",
      "Epoch 69/100\n",
      "50/50 [==============================] - 11s 220ms/step - loss: 0.6992 - accuracy: 0.7608 - val_loss: 0.6625 - val_accuracy: 0.7660\n",
      "Epoch 70/100\n",
      "50/50 [==============================] - 10s 198ms/step - loss: 0.6723 - accuracy: 0.7772 - val_loss: 0.6133 - val_accuracy: 0.7965\n",
      "Epoch 71/100\n",
      "50/50 [==============================] - 13s 252ms/step - loss: 0.6990 - accuracy: 0.7590 - val_loss: 0.6694 - val_accuracy: 0.7640\n",
      "Epoch 72/100\n",
      "50/50 [==============================] - 12s 247ms/step - loss: 0.6744 - accuracy: 0.7642 - val_loss: 0.6208 - val_accuracy: 0.7840\n",
      "Epoch 73/100\n",
      "50/50 [==============================] - 11s 211ms/step - loss: 0.6671 - accuracy: 0.7596 - val_loss: 0.6480 - val_accuracy: 0.7800\n",
      "Epoch 74/100\n",
      "50/50 [==============================] - 9s 189ms/step - loss: 0.6472 - accuracy: 0.7776 - val_loss: 0.6514 - val_accuracy: 0.7820\n",
      "Epoch 75/100\n",
      "50/50 [==============================] - 10s 196ms/step - loss: 0.6720 - accuracy: 0.7640 - val_loss: 0.6300 - val_accuracy: 0.7795\n",
      "Epoch 76/100\n",
      "50/50 [==============================] - 10s 192ms/step - loss: 0.6239 - accuracy: 0.7864 - val_loss: 0.6459 - val_accuracy: 0.7810\n",
      "Epoch 77/100\n",
      "50/50 [==============================] - 14s 283ms/step - loss: 0.6428 - accuracy: 0.7740 - val_loss: 0.6187 - val_accuracy: 0.7755\n",
      "Epoch 78/100\n",
      "50/50 [==============================] - 14s 287ms/step - loss: 0.6424 - accuracy: 0.7774 - val_loss: 0.6561 - val_accuracy: 0.7630\n",
      "Epoch 79/100\n",
      "50/50 [==============================] - 11s 230ms/step - loss: 0.6643 - accuracy: 0.7734 - val_loss: 0.6330 - val_accuracy: 0.7820\n",
      "Epoch 80/100\n",
      "50/50 [==============================] - 12s 239ms/step - loss: 0.6364 - accuracy: 0.7854 - val_loss: 0.6139 - val_accuracy: 0.7785\n",
      "Epoch 81/100\n",
      "50/50 [==============================] - 13s 255ms/step - loss: 0.6497 - accuracy: 0.7786 - val_loss: 0.6543 - val_accuracy: 0.7670\n",
      "Epoch 82/100\n",
      "50/50 [==============================] - 11s 221ms/step - loss: 0.6194 - accuracy: 0.7788 - val_loss: 0.6061 - val_accuracy: 0.7955\n",
      "Epoch 83/100\n",
      "50/50 [==============================] - 11s 215ms/step - loss: 0.5794 - accuracy: 0.7968 - val_loss: 0.5879 - val_accuracy: 0.7925\n",
      "Epoch 84/100\n",
      "50/50 [==============================] - 10s 202ms/step - loss: 0.6217 - accuracy: 0.7818 - val_loss: 0.5905 - val_accuracy: 0.7880\n",
      "Epoch 85/100\n",
      "50/50 [==============================] - 10s 203ms/step - loss: 0.6054 - accuracy: 0.7826 - val_loss: 0.5732 - val_accuracy: 0.8065\n",
      "Epoch 86/100\n",
      "50/50 [==============================] - 10s 197ms/step - loss: 0.5831 - accuracy: 0.7978 - val_loss: 0.6012 - val_accuracy: 0.7885\n",
      "Epoch 87/100\n",
      "50/50 [==============================] - 9s 182ms/step - loss: 0.5982 - accuracy: 0.7928 - val_loss: 0.5679 - val_accuracy: 0.8035\n",
      "Epoch 88/100\n",
      "50/50 [==============================] - 9s 190ms/step - loss: 0.5880 - accuracy: 0.7970 - val_loss: 0.5303 - val_accuracy: 0.8110\n",
      "Epoch 89/100\n",
      "50/50 [==============================] - 9s 188ms/step - loss: 0.5852 - accuracy: 0.7958 - val_loss: 0.6336 - val_accuracy: 0.7845\n",
      "Epoch 90/100\n",
      "50/50 [==============================] - 9s 180ms/step - loss: 0.5550 - accuracy: 0.8128 - val_loss: 0.6241 - val_accuracy: 0.7765\n",
      "Epoch 91/100\n",
      "50/50 [==============================] - 10s 191ms/step - loss: 0.5917 - accuracy: 0.7898 - val_loss: 0.5788 - val_accuracy: 0.7985\n",
      "Epoch 92/100\n",
      "50/50 [==============================] - 9s 188ms/step - loss: 0.5973 - accuracy: 0.7902 - val_loss: 0.6381 - val_accuracy: 0.7750\n",
      "Epoch 93/100\n",
      "50/50 [==============================] - 9s 188ms/step - loss: 0.5690 - accuracy: 0.7992 - val_loss: 0.5586 - val_accuracy: 0.7970\n",
      "Epoch 94/100\n",
      "50/50 [==============================] - 9s 187ms/step - loss: 0.5674 - accuracy: 0.8046 - val_loss: 0.6741 - val_accuracy: 0.7785\n",
      "Epoch 95/100\n",
      "50/50 [==============================] - 9s 186ms/step - loss: 0.5987 - accuracy: 0.7970 - val_loss: 0.5635 - val_accuracy: 0.8135\n",
      "Epoch 96/100\n",
      "50/50 [==============================] - 10s 193ms/step - loss: 0.5498 - accuracy: 0.8124 - val_loss: 0.7513 - val_accuracy: 0.7355\n",
      "Epoch 97/100\n",
      "50/50 [==============================] - 9s 189ms/step - loss: 0.5858 - accuracy: 0.7950 - val_loss: 0.5413 - val_accuracy: 0.8080\n",
      "Epoch 98/100\n",
      "50/50 [==============================] - 9s 189ms/step - loss: 0.5752 - accuracy: 0.7968 - val_loss: 0.5090 - val_accuracy: 0.8235\n",
      "Epoch 99/100\n",
      "50/50 [==============================] - 9s 186ms/step - loss: 0.5442 - accuracy: 0.8112 - val_loss: 0.5498 - val_accuracy: 0.7980\n",
      "Epoch 100/100\n",
      "50/50 [==============================] - 9s 180ms/step - loss: 0.5321 - accuracy: 0.8172 - val_loss: 0.5427 - val_accuracy: 0.8210\n"
     ]
    }
   ],
   "source": [
    "history=model.fit_generator(\n",
    "\ttrain_generator,\n",
    "\tsteps_per_epoch=50,\n",
    "\tepochs=100,\n",
    "\tvalidation_data=validation_generator,\n",
    "\tvalidation_steps=40\n",
    "\t)\n"
   ]
  },
  {
   "cell_type": "markdown",
   "metadata": {},
   "source": [
    "### Model has been trained. Some examples below"
   ]
  },
  {
   "cell_type": "code",
   "execution_count": 37,
   "metadata": {},
   "outputs": [],
   "source": [
    "import matplotlib.pyplot as plt"
   ]
  },
  {
   "cell_type": "code",
   "execution_count": 38,
   "metadata": {},
   "outputs": [],
   "source": [
    "p=[np.random.randint(10000) for q in range(11)]"
   ]
  },
  {
   "cell_type": "code",
   "execution_count": 43,
   "metadata": {},
   "outputs": [
    {
     "data": {
      "image/png": "[encoded data removed]",
      "text/plain": [
       "<Figure size 432x288 with 11 Axes>"
      ]
     },
     "metadata": {
      "needs_background": "light"
     },
     "output_type": "display_data"
    }
   ],
   "source": [
    "# Displaying 10 random handwritten images in the test dataset\n",
    "\n",
    "j=0\n",
    "for i in p: \n",
    "    j+=1\n",
    "    plt.imshow(X_test[i].reshape([32, 32, 3]));\n",
    "    plt.subplot(1, 11, j)\n",
    "plt.show()"
   ]
  },
  {
   "cell_type": "code",
   "execution_count": 44,
   "metadata": {},
   "outputs": [
    {
     "name": "stdout",
     "output_type": "stream",
     "text": [
      "[9, 0, 3, 0, 5, 5, 2, 8, 8, 8]\n"
     ]
    }
   ],
   "source": [
    "# Actual values of the data in the test dataset\n",
    "\n",
    "values=[]\n",
    "for i in p[1:]:\n",
    "    values.append(y_test[i])\n",
    "print(values)"
   ]
  },
  {
   "cell_type": "code",
   "execution_count": 45,
   "metadata": {},
   "outputs": [
    {
     "name": "stdout",
     "output_type": "stream",
     "text": [
      "[9, 0, 7, 1, 7, 5, 2, 8, 8, 0]\n"
     ]
    }
   ],
   "source": [
    "# Predictions performed by the trained model\n",
    "\n",
    "predictions=[]\n",
    "for i in p[1:]:\n",
    "    predictions.append(list(model.predict(X_test)[i]).index(1))\n",
    "print(predictions)"
   ]
  },
  {
   "cell_type": "code",
   "execution_count": null,
   "metadata": {},
   "outputs": [],
   "source": []
  }
 ],
 "metadata": {
  "kernelspec": {
   "display_name": "Python 3",
   "language": "python",
   "name": "python3"
  },
  "language_info": {
   "codemirror_mode": {
    "name": "ipython",
    "version": 3
   },
   "file_extension": ".py",
   "mimetype": "text/x-python",
   "name": "python",
   "nbconvert_exporter": "python",
   "pygments_lexer": "ipython3",
   "version": "3.7.4"
  }
 },
 "nbformat": 4,
 "nbformat_minor": 2
}
